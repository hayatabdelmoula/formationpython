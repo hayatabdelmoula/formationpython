{
 "cells": [
  {
   "cell_type": "code",
   "execution_count": 38,
   "id": "e3a1b9f7",
   "metadata": {},
   "outputs": [
    {
     "data": {
      "text/plain": [
       "56"
      ]
     },
     "execution_count": 38,
     "metadata": {},
     "output_type": "execute_result"
    }
   ],
   "source": [
    "def maximum(liste):\n",
    "    maxi=liste[0]\n",
    "    for i in range(0,len(liste)):\n",
    "        if maxi<=liste[i]:\n",
    "            maxi=liste[i]\n",
    "    return maxi\n",
    "maximum([23,56,7])"
   ]
  },
  {
   "cell_type": "code",
   "execution_count": 39,
   "id": "b6cefe9d",
   "metadata": {},
   "outputs": [
    {
     "name": "stdout",
     "output_type": "stream",
     "text": [
      "15 -3\n"
     ]
    }
   ],
   "source": [
    "def calcul(a,b):\n",
    "    x=a+b\n",
    "    y=a-b\n",
    "    print(x,y)\n",
    "calcul(6,9)"
   ]
  },
  {
   "cell_type": "code",
   "execution_count": 79,
   "id": "bdb5cf59",
   "metadata": {},
   "outputs": [
    {
     "data": {
      "text/plain": [
       "3059"
      ]
     },
     "execution_count": 79,
     "metadata": {},
     "output_type": "execute_result"
    }
   ],
   "source": [
    "def add(liste):\n",
    "    ad=liste[0]\n",
    "    for i in range(1,len(liste)):\n",
    "        ad=ad+liste[i]\n",
    "    return(ad)\n",
    "def mul(adit):\n",
    "    adt=adit[0]\n",
    "    for i in range(1,len(adit)):\n",
    "        adt=adt*adit[i]\n",
    "    return adt\n",
    "\n",
    "mul([23,7,19])"
   ]
  },
  {
   "cell_type": "code",
   "execution_count": 82,
   "id": "3d6ec918",
   "metadata": {},
   "outputs": [
    {
     "data": {
      "text/plain": [
       "(6, 3969)"
      ]
     },
     "execution_count": 82,
     "metadata": {},
     "output_type": "execute_result"
    }
   ],
   "source": [
    "def addd(rest):\n",
    "    a=[]   \n",
    "    b=[]\n",
    "    for i in range(0,len(rest)):\n",
    "        if rest[i]%2==0:\n",
    "            a.append(rest[i])\n",
    "        else:\n",
    "            b.append(rest[i])\n",
    "    return add(a),mul(b)\n",
    "    \n",
    "addd([2,3,4,7,9,3,7])\n",
    "        "
   ]
  },
  {
   "cell_type": "code",
   "execution_count": 108,
   "id": "c5b837ce",
   "metadata": {},
   "outputs": [
    {
     "data": {
      "text/plain": [
       "'blanc-jaune-noir-rouge -vert'"
      ]
     },
     "execution_count": 108,
     "metadata": {},
     "output_type": "execute_result"
    }
   ],
   "source": [
    "def pro(accept):\n",
    "    \n",
    "    l=accept.split(',')\n",
    "    l.sort()\n",
    "    accept=\"-\".join(l)\n",
    "    return accept\n",
    "s=\"noir,blanc,vert,rouge ,jaune\"\n",
    "   \n",
    "pro(s)\n"
   ]
  },
  {
   "cell_type": "code",
   "execution_count": 112,
   "id": "5719b843",
   "metadata": {},
   "outputs": [
    {
     "data": {
      "text/plain": [
       "[18, 22, 24]"
      ]
     },
     "execution_count": 112,
     "metadata": {},
     "output_type": "execute_result"
    }
   ],
   "source": [
    "import math\n",
    "def racine(raci):\n",
    "    c=50\n",
    "    H=30\n",
    "    result=[]\n",
    "    for i in raci:\n",
    "        q=math.sqrt((2*c*i)/H)\n",
    "        result.append(int(q))\n",
    "    return result\n",
    "    raci=[(2 * c * D)/H]\n",
    "racine([100,150,180])    \n",
    "    \n"
   ]
  },
  {
   "cell_type": "code",
   "execution_count": null,
   "id": "25ae634c",
   "metadata": {},
   "outputs": [],
   "source": [
    "[(2 * C * D)/H] "
   ]
  }
 ],
 "metadata": {
  "kernelspec": {
   "display_name": "Python 3",
   "language": "python",
   "name": "python3"
  },
  "language_info": {
   "codemirror_mode": {
    "name": "ipython",
    "version": 3
   },
   "file_extension": ".py",
   "mimetype": "text/x-python",
   "name": "python",
   "nbconvert_exporter": "python",
   "pygments_lexer": "ipython3",
   "version": "3.8.8"
  }
 },
 "nbformat": 4,
 "nbformat_minor": 5
}
