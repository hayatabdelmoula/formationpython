{
 "cells": [
  {
   "cell_type": "code",
   "execution_count": 24,
   "id": "7eff89cd",
   "metadata": {},
   "outputs": [
    {
     "data": {
      "text/plain": [
       "(1, 2, 3)"
      ]
     },
     "execution_count": 24,
     "metadata": {},
     "output_type": "execute_result"
    }
   ],
   "source": [
    "class Point3D:\n",
    "    def __init__(self,x,y,z):\n",
    "        self.x=x\n",
    "        self.y=y\n",
    "        self.z=z\n",
    "    def method(self):\n",
    "        return(self.x,self.y,self.z)\n",
    "x=1\n",
    "y=2\n",
    "z=3\n",
    "my_point=Point3D(x,y,z)\n",
    "my_point.method()"
   ]
  },
  {
   "cell_type": "code",
   "execution_count": 31,
   "id": "9b779c70",
   "metadata": {},
   "outputs": [
    {
     "name": "stdout",
     "output_type": "stream",
     "text": [
      "8\n",
      "12\n"
     ]
    }
   ],
   "source": [
    "class rectangle:\n",
    "    def __init__(self,l,w):\n",
    "        self.l=l\n",
    "        self.w=w\n",
    "    def area(self):\n",
    "        return self.l*self.w\n",
    "    def perimeter(self):\n",
    "        return 2*(self.l+self.w)\n",
    "my_rectangle=rectangle(2,4)\n",
    "\n",
    "print(my_rectangle.area())\n",
    "print(my_rectangle.perimeter())\n",
    "\n",
    "\n",
    "    "
   ]
  },
  {
   "cell_type": "code",
   "execution_count": 63,
   "id": "999076bd",
   "metadata": {},
   "outputs": [
    {
     "name": "stdout",
     "output_type": "stream",
     "text": [
      "a n'appartient pas  à C \n"
     ]
    }
   ],
   "source": [
    "import math \n",
    "class cercle:\n",
    "    def __init__(self,o,r,p=3.14):\n",
    "        self.o=o\n",
    "        self.r=r\n",
    "        self.p=p\n",
    "    def Area(self):\n",
    "        return p*(self.r)**2\n",
    "    def Perimeter(self):\n",
    "        return 2*P*(self.r)\n",
    "    def inslide(self,a):\n",
    "        D=math.dist(a,self.o)\n",
    "        r=self.r\n",
    "        if r <= D:\n",
    "            print (\"a appartient à c \")\n",
    "        else:\n",
    "            print(\"a n'appartient pas  à C \")\n",
    "c1=cercle((7,6),12)\n",
    "c1.inslide((8,9))\n",
    "    "
   ]
  },
  {
   "cell_type": "code",
   "execution_count": 44,
   "id": "e08e7f21",
   "metadata": {},
   "outputs": [
    {
     "data": {
      "text/plain": [
       "3.141592653589793"
      ]
     },
     "execution_count": 44,
     "metadata": {},
     "output_type": "execute_result"
    }
   ],
   "source": [
    "import math\n",
    "math.pi"
   ]
  },
  {
   "cell_type": "code",
   "execution_count": 50,
   "id": "ffdcf60c",
   "metadata": {},
   "outputs": [
    {
     "name": "stdout",
     "output_type": "stream",
     "text": [
      "16.1245154965971\n"
     ]
    }
   ],
   "source": [
    "\n",
    "import math\n",
    "P =(3,8)\n",
    "Q =(5,-8)\n",
    "Distance = math.dist(P,Q)\n",
    "print(Distance)\n"
   ]
  },
  {
   "cell_type": "code",
   "execution_count": 80,
   "id": "88eb105c",
   "metadata": {},
   "outputs": [
    {
     "name": "stdout",
     "output_type": "stream",
     "text": [
      "9\n"
     ]
    }
   ],
   "source": [
    "class bank:\n",
    "    def __init__(self,d,r,solde=0):\n",
    "        self.d=d\n",
    "        self.r=r\n",
    "        self.solde=solde\n",
    "    def depot(self,a):\n",
    "        self.solde=self.solde+a\n",
    "    def retrait(self,b):\n",
    "        self.solde=self.solde-b\n",
    "balance=bank(8,5)    \n",
    "S=balance.depot(9)\n",
    "print(balance.solde)      \n",
    "        "
   ]
  },
  {
   "cell_type": "code",
   "execution_count": null,
   "id": "a3690644",
   "metadata": {},
   "outputs": [],
   "source": []
  }
 ],
 "metadata": {
  "kernelspec": {
   "display_name": "Python 3",
   "language": "python",
   "name": "python3"
  },
  "language_info": {
   "codemirror_mode": {
    "name": "ipython",
    "version": 3
   },
   "file_extension": ".py",
   "mimetype": "text/x-python",
   "name": "python",
   "nbconvert_exporter": "python",
   "pygments_lexer": "ipython3",
   "version": "3.8.8"
  }
 },
 "nbformat": 4,
 "nbformat_minor": 5
}
