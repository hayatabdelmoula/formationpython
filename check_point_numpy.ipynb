{
 "cells": [
  {
   "cell_type": "code",
   "execution_count": 32,
   "id": "50eea900",
   "metadata": {},
   "outputs": [
    {
     "name": "stdout",
     "output_type": "stream",
     "text": [
      "[[1, 2], [3, 4]]\n"
     ]
    }
   ],
   "source": [
    "import numpy as np\n",
    "x=np.array([[1,2],[3,4]]).tolist()\n",
    "print(x)"
   ]
  },
  {
   "cell_type": "code",
   "execution_count": 38,
   "id": "bb7d8267",
   "metadata": {},
   "outputs": [
    {
     "name": "stdout",
     "output_type": "stream",
     "text": [
      "176\n"
     ]
    }
   ],
   "source": [
    "import numpy as np\n",
    "n_array = np.array([[55, 25, 15],\n",
    "                    [30, 44, 2],\n",
    "                    [11, 45, 77]])\n",
    "trace = np.trace(n_array)\n",
    "print(trace)\n",
    "  "
   ]
  },
  {
   "cell_type": "code",
   "execution_count": 40,
   "id": "7a2078f6",
   "metadata": {},
   "outputs": [
    {
     "name": "stdout",
     "output_type": "stream",
     "text": [
      "[3 5]\n"
     ]
    }
   ],
   "source": [
    "import numpy as np\n",
    "a = np.array( [[1,2],[3,5]])\n",
    "x=3\n",
    "for i in a:\n",
    "    i>x \n",
    "print(i)\n"
   ]
  },
  {
   "cell_type": "code",
   "execution_count": 93,
   "id": "245f7f85",
   "metadata": {},
   "outputs": [
    {
     "name": "stdout",
     "output_type": "stream",
     "text": [
      "[[14.  4.]\n",
      " [12. 10.]]\n"
     ]
    }
   ],
   "source": [
    "import numpy as np\n",
    "a = np.array( [[8,2],[9,5]])\n",
    "b = np.array( [[6,2],[3,5]])\n",
    "il=0\n",
    "ic=0\n",
    "C=np.zeros([2,2])\n",
    "for i,j in zip(a,b):\n",
    "    for n,p in zip(i,j):\n",
    "        somme=n+p\n",
    "        C[il,ic]=somme\n",
    "        ic=ic+1\n",
    "    ic=0\n",
    "    il=il+1\n",
    "print(C)\n",
    "  \n"
   ]
  },
  {
   "cell_type": "code",
   "execution_count": 66,
   "id": "f929f409",
   "metadata": {},
   "outputs": [
    {
     "name": "stdout",
     "output_type": "stream",
     "text": [
      "{'ligne 0': 31.666666666666668, 'ligne 1': 25.333333333333332, 'ligne 2': 44.333333333333336}\n"
     ]
    }
   ],
   "source": [
    "import numpy as np\n",
    "n_array = np.array([[55, 25, 15],\n",
    "                    [30, 44, 2],\n",
    "                    [11, 45, 77]])\n",
    "l = {}\n",
    "for i,o in enumerate(n_array):\n",
    "    d=o.mean()\n",
    "    key=\"ligne \"+str(i+1)\n",
    "    l[key]=d\n",
    "print(l)"
   ]
  },
  {
   "cell_type": "code",
   "execution_count": null,
   "id": "8c94eb0c",
   "metadata": {},
   "outputs": [],
   "source": []
  }
 ],
 "metadata": {
  "kernelspec": {
   "display_name": "Python 3",
   "language": "python",
   "name": "python3"
  },
  "language_info": {
   "codemirror_mode": {
    "name": "ipython",
    "version": 3
   },
   "file_extension": ".py",
   "mimetype": "text/x-python",
   "name": "python",
   "nbconvert_exporter": "python",
   "pygments_lexer": "ipython3",
   "version": "3.8.8"
  }
 },
 "nbformat": 4,
 "nbformat_minor": 5
}
